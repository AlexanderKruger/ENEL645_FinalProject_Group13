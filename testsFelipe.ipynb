{
 "cells": [
  {
   "cell_type": "code",
   "execution_count": 10,
   "metadata": {},
   "outputs": [],
   "source": [
    "import numpy as np\n",
    "import glob\n",
    "import tensorflow as tf\n",
    "from tensorflow import keras\n",
    "from tensorflow.keras.preprocessing.image import ImageDataGenerator\n",
    "from tensorflow.keras.applications import EfficientNetB0\n",
    "import matplotlib.pylab as plt\n",
    "import pickle\n",
    "import random\n",
    "\n",
    "physical_devices = tf.config.experimental.list_physical_devices('GPU')\n",
    "tf.config.experimental.set_memory_growth(physical_devices[0], True)"
   ]
  },
  {
   "cell_type": "code",
   "execution_count": 7,
   "metadata": {},
   "outputs": [
    {
     "name": "stdout",
     "output_type": "stream",
     "text": [
      "[]\n",
      "C:\\Users\\feagm\\Desktop\\ENEL_645\\Project\\archive\\benign\n"
     ]
    }
   ],
   "source": [
    "#Move all benign files to one folder\n",
    "from pathlib import Path\n",
    "import shutil\n",
    "\n",
    "benign= glob.glob(\"C:\\\\Users\\\\feagm\\Desktop\\\\ENEL_645\\\\Project\\\\archive\\\\benign\\\\*\\\\*\\\\*\\\\*.png\")\n",
    "trg_path = \"C:\\\\Users\\\\feagm\\Desktop\\\\ENEL_645\\\\Project\\\\archive\\\\benign\"\n",
    "\n",
    "print(benign)\n",
    "print(trg_path)\n",
    "\n",
    "for file in benign:\n",
    "    shutil.move(file, trg_path)"
   ]
  },
  {
   "cell_type": "code",
   "execution_count": 8,
   "metadata": {},
   "outputs": [
    {
     "name": "stdout",
     "output_type": "stream",
     "text": [
      "[]\n",
      "C:\\Users\\feagm\\Desktop\\ENEL_645\\Project\\archive\\malignant\n"
     ]
    }
   ],
   "source": [
    "#Move all malignant files to one folder\n",
    "malignant= glob.glob(\"C:\\\\Users\\\\feagm\\Desktop\\\\ENEL_645\\\\Project\\\\archive\\\\malignant\\\\*\\\\*\\\\*\\\\*.png\")\n",
    "trg_path = \"C:\\\\Users\\\\feagm\\Desktop\\\\ENEL_645\\\\Project\\\\archive\\\\malignant\"\n",
    "\n",
    "print(malignant)\n",
    "print(trg_path)\n",
    "\n",
    "for file in malignant:\n",
    "    shutil.move(file, trg_path)"
   ]
  },
  {
   "cell_type": "code",
   "execution_count": 11,
   "metadata": {},
   "outputs": [
    {
     "name": "stdout",
     "output_type": "stream",
     "text": [
      "1860\n",
      "620\n"
     ]
    }
   ],
   "source": [
    "#Separating into Train and Test Sets\n",
    "bening_images = glob.glob(\"C:\\\\Users\\\\feagm\\Desktop\\\\ENEL_645\\\\Project\\\\archive\\\\benign\\\\*.png\")\n",
    "malignant_images = glob.glob(\"C:\\\\Users\\\\feagm\\Desktop\\\\ENEL_645\\\\Project\\\\archive\\\\malignant\\\\*.png\")\n",
    "\n",
    "#Shuffling list of images\n",
    "random.Random(154).shuffle(bening_images)\n",
    "random.Random(154).shuffle(malignant_images)\n",
    "\n",
    "benig_len1 = int(0.75*len(bening_images));\n",
    "benig_len2 = len(bening_images) - benig_len1\n",
    "print(benig_len1)\n",
    "print(benig_len2)\n",
    "\n",
    "malignant_len1 = int(0.75*len(bening_images));\n",
    "malignant_len1 = len(bening_images) - benig_len1\n"
   ]
  },
  {
   "cell_type": "code",
   "execution_count": 23,
   "metadata": {},
   "outputs": [
    {
     "name": "stdout",
     "output_type": "stream",
     "text": [
      "7909\n"
     ]
    }
   ],
   "source": [
    "images = glob.glob(\"C:\\\\Users\\\\feagm\\Desktop\\\\ENEL_645\\\\Project\\\\archive\\\\*\\\\*.png\")\n",
    "print(len(images))\n",
    "\n",
    "\n"
   ]
  },
  {
   "cell_type": "code",
   "execution_count": 25,
   "metadata": {},
   "outputs": [
    {
     "name": "stdout",
     "output_type": "stream",
     "text": [
      "Found 7909 files belonging to 2 classes.\n",
      "Using 6328 files for training.\n",
      "Found 7909 files belonging to 2 classes.\n",
      "Using 1581 files for validation.\n",
      "<BatchDataset element_spec=(TensorSpec(shape=(None, 224, 224, 3), dtype=tf.float32, name=None), TensorSpec(shape=(None, 2), dtype=tf.float32, name=None))>\n",
      "<BatchDataset element_spec=(TensorSpec(shape=(None, 224, 224, 3), dtype=tf.float32, name=None), TensorSpec(shape=(None, 2), dtype=tf.float32, name=None))>\n"
     ]
    }
   ],
   "source": [
    "IMAGE_SIZE = (224, 340)\n",
    "CROP_SIZE = (224, 224)\n",
    "BATCH_SIZE = 128\n",
    "\n",
    "image_dir = \"C:\\\\Users\\\\feagm\\Desktop\\\\ENEL_645\\\\Project\\\\archive\"\n",
    "\n",
    "train_ds = tf.keras.preprocessing.image_dataset_from_directory(\n",
    "        image_dir, shuffle=True, label_mode='categorical', validation_split=0.2,subset=\"training\",seed=154,\n",
    "        batch_size=BATCH_SIZE, image_size=CROP_SIZE)\n",
    "\n",
    "validation_ds = tf.keras.preprocessing.image_dataset_from_directory(\n",
    "        image_dir, shuffle=True, label_mode='categorical', validation_split=0.2,subset=\"validation\",seed=154,\n",
    "        batch_size=BATCH_SIZE, image_size=CROP_SIZE)\n",
    "print(train_ds)\n",
    "print(validation_ds)"
   ]
  }
 ],
 "metadata": {
  "kernelspec": {
   "display_name": "enel645",
   "language": "python",
   "name": "python3"
  },
  "language_info": {
   "codemirror_mode": {
    "name": "ipython",
    "version": 3
   },
   "file_extension": ".py",
   "mimetype": "text/x-python",
   "name": "python",
   "nbconvert_exporter": "python",
   "pygments_lexer": "ipython3",
   "version": "3.9.15"
  },
  "orig_nbformat": 4
 },
 "nbformat": 4,
 "nbformat_minor": 2
}
