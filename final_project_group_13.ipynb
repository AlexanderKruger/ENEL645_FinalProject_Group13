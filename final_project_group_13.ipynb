{
 "cells": [
  {
   "cell_type": "code",
   "execution_count": null,
   "metadata": {},
   "outputs": [],
   "source": [
    "from final_project_group_13 import *"
   ]
  },
  {
   "cell_type": "code",
   "execution_count": null,
   "metadata": {},
   "outputs": [],
   "source": [
    "dataset_path = Path(\n",
    "    r'D:\\BreakHisDataset\\BreaKHis_v1\\histology_slides\\breast'\n",
    ")\n",
    "training_dataset_path,validation_dataset_path, test_dataset_path = stratified_train_val_test_split_into_folders(dataset_path)\n"
   ]
  },
  {
   "cell_type": "code",
   "execution_count": null,
   "metadata": {},
   "outputs": [],
   "source": [
    "train_ds, val_ds = preprocess_train_val(training_dataset_path,validation_dataset_path, batch_size=32)\n",
    "test_ds = preprocess_test(test_dataset_path, batch_size=32)\n",
    "model = resnetnaive_builder()\n",
    "train_validate(model, train_ds, val_ds, epochs=30)"
   ]
  },
  {
   "cell_type": "code",
   "execution_count": null,
   "metadata": {},
   "outputs": [],
   "source": [
    "model = tf.keras.models.load_model(model_name)\n",
    "model.evaluate(test_ds)"
   ]
  }
 ],
 "metadata": {
  "language_info": {
   "name": "python"
  },
  "orig_nbformat": 4
 },
 "nbformat": 4,
 "nbformat_minor": 2
}
